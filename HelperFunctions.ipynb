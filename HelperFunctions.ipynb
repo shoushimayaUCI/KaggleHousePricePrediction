{
 "cells": [
  {
   "cell_type": "code",
   "execution_count": 1,
   "metadata": {},
   "outputs": [],
   "source": [
    "import seaborn as sns\n",
    "import matplotlib.pyplot as plt\n",
    "\n",
    "def showNanPercentage(df):\n",
    "    col_with_null = []\n",
    "    for (columnName, columnData) in df.iteritems():\n",
    "        if columnData.isnull().sum():\n",
    "            col_with_null.append(columnName)\n",
    "    \n",
    "    df_na = ((df[col_with_null].isnull().sum() / len(df[col_with_null])) * 100).sort_values(ascending=False)\n",
    "    df_na.drop(\"SalePrice\", inplace=True)\n",
    "    df_na.plot(kind='bar')\n",
    "\n",
    "    plt.title(\"NaN percentage\")\n",
    "    plt.show()"
   ]
  },
  {
   "cell_type": "code",
   "execution_count": 3,
   "metadata": {},
   "outputs": [],
   "source": [
    "def handle_null(df):\n",
    "    \n",
    "    na_to_none_cols = [\"Alley\", \"BsmtQual\", \"BsmtCond\", \"BsmtExposure\", \"BsmtFinType1\", \n",
    "                       \"BsmtFinType2\", \"FireplaceQu\", \"GarageType\", \"GarageFinish\", \"GarageQual\", \n",
    "                       \"GarageCond\", \"PoolQC\", \"Fence\", \"MasVnrType\", \"MiscFeature\"]\n",
    "    for x in na_to_none_cols:\n",
    "        df[x].fillna(\"None\", inplace=True)\n",
    "        \n",
    "        \n",
    "    df_temp = df.groupby('Neighborhood')['LotFrontage'].median()\n",
    "    for i, row in df.iterrows():\n",
    "        if pd.isnull(row['LotFrontage']):\n",
    "            df.loc[i, 'LotFrontage'] = df_temp[row['Neighborhood']]\n",
    "\n",
    "\n",
    "    na_to_0 = ['BsmtHalfBath', 'BsmtFullBath', 'GarageCars', 'TotalBsmtSF', 'BsmtUnfSF', 'BsmtFinSF1', 'BsmtFinSF2', 'MasVnrArea']\n",
    "    for x in na_to_0:\n",
    "        df[x].fillna(0.0, inplace=True)\n",
    "        \n",
    "        \n",
    "    na_to_most_frequent = ['SaleType', 'KitchenQual', 'Electrical', 'Exterior1st', 'Exterior2nd', 'MSZoning']\n",
    "    for x in na_to_most_frequent:\n",
    "        df[x].fillna(df[x].mode()[0], inplace=True)\n",
    "        \n",
    "        \n",
    "    df['Functional'].fillna('Typ', inplace=True)\n",
    "    df['Utilities'].fillna('AllPub', inplace=True)\n",
    "\n",
    "    \n",
    "    #I'm not sure if I dealt with these NaNs well\n",
    "    df['GarageYrBlt'].fillna(df['GarageYrBlt'].min(), inplace=True) \n",
    "    df['GarageArea'].fillna(df['GarageArea'].min(), inplace=True)\n",
    "    \n",
    "    return df"
   ]
  },
  {
   "cell_type": "code",
   "execution_count": null,
   "metadata": {},
   "outputs": [],
   "source": []
  }
 ],
 "metadata": {
  "kernelspec": {
   "display_name": "Python 3",
   "language": "python",
   "name": "python3"
  },
  "language_info": {
   "codemirror_mode": {
    "name": "ipython",
    "version": 3
   },
   "file_extension": ".py",
   "mimetype": "text/x-python",
   "name": "python",
   "nbconvert_exporter": "python",
   "pygments_lexer": "ipython3",
   "version": "3.7.4"
  }
 },
 "nbformat": 4,
 "nbformat_minor": 4
}
