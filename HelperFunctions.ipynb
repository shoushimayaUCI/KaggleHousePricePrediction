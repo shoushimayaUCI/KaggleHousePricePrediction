{
 "cells": [
  {
   "cell_type": "code",
   "execution_count": 3,
   "metadata": {},
   "outputs": [],
   "source": [
    "import seaborn as sns\n",
    "import matplotlib.pyplot as plt\n",
    "\n",
    "def showNanPercentage(df):\n",
    "    col_with_null = []\n",
    "    for (columnName, columnData) in df.iteritems():\n",
    "        if columnData.isnull().sum():\n",
    "            col_with_null.append(columnName)\n",
    "    \n",
    "    df_na = ((df[col_with_null].isnull().sum() / len(df[col_with_null])) * 100).sort_values(ascending=False)\n",
    "    df_na.drop(\"SalePrice\", inplace=True)\n",
    "    df_na.plot(kind='bar')\n",
    "\n",
    "    plt.title(\"NaN percentage\")\n",
    "    plt.show()"
   ]
  },
  {
   "cell_type": "code",
   "execution_count": 4,
   "metadata": {},
   "outputs": [],
   "source": [
    "def handle_null(df):\n",
    "    \n",
    "    na_to_none_cols = [\"Alley\", \"BsmtQual\", \"BsmtCond\", \"BsmtExposure\", \"BsmtFinType1\", \n",
    "                       \"BsmtFinType2\", \"FireplaceQu\", \"GarageType\", \"GarageFinish\", \"GarageQual\", \n",
    "                       \"GarageCond\", \"PoolQC\", \"Fence\", \"MasVnrType\", \"MiscFeature\"]\n",
    "    for x in na_to_none_cols:\n",
    "        df[x].fillna(\"None\", inplace=True)\n",
    "        \n",
    "        \n",
    "    df_temp = df.groupby('Neighborhood')['LotFrontage'].median()\n",
    "    for i, row in df.iterrows():\n",
    "        if pd.isnull(row['LotFrontage']):\n",
    "            df.loc[i, 'LotFrontage'] = df_temp[row['Neighborhood']]\n",
    "\n",
    "\n",
    "    na_to_0 = ['BsmtHalfBath', 'BsmtFullBath', 'GarageCars', 'TotalBsmtSF', 'BsmtUnfSF', \n",
    "               'BsmtFinSF1', 'BsmtFinSF2', 'MasVnrArea']\n",
    "    for x in na_to_0:\n",
    "        df[x].fillna(0.0, inplace=True)\n",
    "        \n",
    "        \n",
    "    na_to_most_frequent = ['SaleType', 'KitchenQual', 'Electrical', 'Exterior1st', 'Exterior2nd', 'MSZoning']\n",
    "    for x in na_to_most_frequent:\n",
    "        df[x].fillna(df[x].mode()[0], inplace=True)\n",
    "        \n",
    "        \n",
    "    df['Functional'].fillna('Typ', inplace=True)\n",
    "    df['Utilities'].fillna('AllPub', inplace=True)\n",
    "\n",
    "    \n",
    "    #I'm not sure if I dealt with these NaNs well\n",
    "    df['GarageYrBlt'].fillna(df['GarageYrBlt'].median(), inplace=True) \n",
    "    df['GarageArea'].fillna(df['GarageArea'].median(), inplace=True)\n",
    "    \n",
    "    return df"
   ]
  },
  {
   "cell_type": "code",
   "execution_count": 5,
   "metadata": {},
   "outputs": [],
   "source": [
    "from sklearn.model_selection import cross_val_score\n",
    "import numpy as np\n",
    "\n",
    "def cv_score(model, X, Y, kf):\n",
    "    lista = (np.sqrt(-cross_val_score(model, X, Y, scoring=\"neg_mean_squared_error\", cv=kf)))\n",
    "    return sum(lista)/len(lista)"
   ]
  },
  {
   "cell_type": "code",
   "execution_count": 6,
   "metadata": {},
   "outputs": [],
   "source": [
    "from scipy.stats import skew, norm\n",
    "from scipy.special import boxcox1p\n",
    "from scipy.stats import boxcox_normmax\n",
    "\n",
    "def fix_skew(df):\n",
    "    numeric_dtypes = ['int16', 'int32', 'int64', 'float16', 'float32', 'float64']\n",
    "    numeric = []\n",
    "    for x in df.columns:\n",
    "        if df[x].dtype in numeric_dtypes:\n",
    "            numeric.append(x)\n",
    "    \n",
    "    skew_features = df[numeric].apply(lambda x: skew(x))\n",
    "    high_skew = skew_features[skew_features > 0.5]\n",
    "    skew_index = high_skew.index\n",
    "    \n",
    "    for i in skew_index:\n",
    "        df[i] = boxcox1p(df[i], boxcox_normmax(df[i] + 1))\n",
    "    \n",
    "    return df"
   ]
  },
  {
   "cell_type": "code",
   "execution_count": 8,
   "metadata": {},
   "outputs": [],
   "source": [
    "import math\n",
    "\n",
    "def graph_numeric(df):\n",
    "    \n",
    "    numeric = []\n",
    "    for i in df.columns:\n",
    "        if df[i].dtype in ['int16', 'int32', 'int64', 'float16', 'float32', 'float64']:\n",
    "            numeric.append(i)\n",
    "                \n",
    "    fig, axs = plt.subplots(ncols=2, nrows=math.ceil((len(numeric) - 1)/2), figsize=(12, 120))\n",
    "    sns.color_palette(\"husl\", 8)\n",
    "    \n",
    "    for i, feature in enumerate(list(df[numeric]), 1):\n",
    "        if(feature=='MiscVal'):\n",
    "            break\n",
    "        plt.subplot(len(list(numeric)), 3, i)\n",
    "        sns.scatterplot(x=feature, y='SalePrice', hue='SalePrice', palette='Blues', data=df)\n",
    "\n",
    "        plt.xlabel('{}'.format(feature), size=15,labelpad=12.5)\n",
    "        plt.ylabel('SalePrice', size=15, labelpad=12.5)\n",
    "    "
   ]
  },
  {
   "cell_type": "code",
   "execution_count": null,
   "metadata": {},
   "outputs": [],
   "source": [
    "def show_corr(frame, features):\n",
    "    spr = pd.DataFrame()\n",
    "    spr['feature'] = features\n",
    "    spr['spearman'] = [frame[f].corr(frame['SalePrice'], 'spearman') for f in features]\n",
    "    spr = spr.sort_values('spearman')\n",
    "    plt.figure(figsize=(6, 0.25*len(features)))\n",
    "    sns.barplot(data=spr, y='feature', x='spearman', orient='h')"
   ]
  },
  {
   "cell_type": "code",
   "execution_count": null,
   "metadata": {},
   "outputs": [],
   "source": [
    "    "
   ]
  }
 ],
 "metadata": {
  "kernelspec": {
   "display_name": "Python 3",
   "language": "python",
   "name": "python3"
  },
  "language_info": {
   "codemirror_mode": {
    "name": "ipython",
    "version": 3
   },
   "file_extension": ".py",
   "mimetype": "text/x-python",
   "name": "python",
   "nbconvert_exporter": "python",
   "pygments_lexer": "ipython3",
   "version": "3.7.4"
  }
 },
 "nbformat": 4,
 "nbformat_minor": 4
}
